{
 "cells": [
  {
   "cell_type": "code",
   "execution_count": 1,
   "metadata": {},
   "outputs": [
    {
     "name": "stdout",
     "output_type": "stream",
     "text": [
      "{'call_price': 58.81976813699322, 'put_price': 1.4311515241202173, 'call_delta': 0.9319505761425017, 'put_delta': -0.06804942385749836, 'call_gamma': 0.0029194444599397696, 'put_gamma': 0.0029194444599397696, 'call_theta': -9.578899656861736, 'call_vega': 39.41250020918689, 'put_vega': 39.41250020918689}\n"
     ]
    }
   ],
   "source": [
    "#*****************************************************************************************************\n",
    "#\n",
    "# 1. Compute Black Scholes pricing of stocks based the following input variables:\n",
    "#    spot_price, strike_price, interest_rate, dividend, days_to_expiry, volatility\n",
    "#\n",
    "#*****************************************************************************************************\n",
    "\n",
    "import numpy as np\n",
    "from scipy.stats import norm\n",
    "\n",
    "# Black-Scholes formula for options pricing\n",
    "def black_scholes(spot_price, strike_price, interest_rate, dividend, days_to_expiry, volatility):\n",
    "    # Convert input parameters to appropriate data types\n",
    "    S = np.float(spot_price)\n",
    "    r = np.float(interest_rate)\n",
    "    q = np.float(dividend)\n",
    "    T = np.float(days_to_expiry) / 365\n",
    "    sigma = np.float(volatility)\n",
    "    K = strike_price\n",
    "\n",
    "    # Calculate d1 and d2\n",
    "    d1 = (np.log(S / K) + (r - q + sigma ** 2 / 2) * T) / (sigma * np.sqrt(T))\n",
    "    d2 = (np.log(S / K) + (r - q - sigma ** 2 / 2) * T) / (sigma * np.sqrt(T))\n",
    "\n",
    "    # Calculate option price\n",
    "    call_price = S * np.exp(-q * T) * norm.cdf(d1) - K * np.exp(-r * T) * norm.cdf(d2)\n",
    "    put_price = K * np.exp(-r * T) * norm.cdf(-d2) - S * np.exp(-q * T) * norm.cdf(-d1)\n",
    "\n",
    "    # Calculate Greeks\n",
    "    call_delta = np.exp(-q * T) * norm.cdf(d1)\n",
    "    put_delta = -np.exp(-q * T) * norm.cdf(-d1)\n",
    "    call_gamma = np.exp(-q * T) * norm.pdf(d1) / (S * sigma * np.sqrt(T))\n",
    "    put_gamma = np.exp(-q * T) * norm.pdf(d1) / (S * sigma * np.sqrt(T))\n",
    "    call_theta = -np.exp(-q * T) * S * norm.pdf(d1) * sigma / (2 * np.sqrt(T)) - r * K * np.exp(-r * T) * norm.cdf(d2) + q * S * np.exp(-q * T) * norm.cdf(d1)\n",
    "    put_theta = -np.exp(-q * T) * S * norm.pdf(d1) * sigma / (2 * np.sqrt(T)) + r * K * np.exp(-r * T) * norm.cdf(-d2) - q * S * np.exp(-q * T) * norm.cdf(-d1)\n",
    "    call_vega = S * np.exp(-q * T) * norm.pdf(d1) * np.sqrt(T)\n",
    "    put_vega = S * np.exp(-q * T) * norm.pdf(d1) * np.sqrt(T)\n",
    "\n",
    "    # Return results as a dictionary\n",
    "    return {'call_price': call_price, 'put_price': put_price, 'call_delta': call_delta, 'put_delta': put_delta, 'call_gamma': call_gamma, 'put_gamma': put_gamma, \n",
    "            'call_theta': call_theta, 'call_vega': call_vega, 'put_vega': put_vega}\n",
    "\n",
    "# spot_price, strike_price, interest_rate, dividend, days_to_expiry, volatility\n",
    "print( black_scholes(spot_price=300, strike_price=250, interest_rate=0.03, dividend=0, days_to_expiry=365, volatility=0.15) )\n"
   ]
  },
  {
   "cell_type": "code",
   "execution_count": null,
   "metadata": {},
   "outputs": [],
   "source": []
  }
 ],
 "metadata": {
  "kernelspec": {
   "display_name": "Python 3",
   "language": "python",
   "name": "python3"
  },
  "language_info": {
   "codemirror_mode": {
    "name": "ipython",
    "version": 3
   },
   "file_extension": ".py",
   "mimetype": "text/x-python",
   "name": "python",
   "nbconvert_exporter": "python",
   "pygments_lexer": "ipython3",
   "version": "3.8.3"
  }
 },
 "nbformat": 4,
 "nbformat_minor": 4
}
